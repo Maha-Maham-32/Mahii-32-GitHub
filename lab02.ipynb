{
 "cells": [
  {
   "cell_type": "markdown",
   "metadata": {},
   "source": [
    "# Lab Work: Exploring Conditional Statements, Logical Operators, and Data Types in Python\n",
    "\n",
    "## Objective:\n",
    "- Learn to use comparison operators, logical operators, and conditional statements.\n",
    "- Apply these concepts to various Python data types.\n"
   ]
  },
  {
   "cell_type": "markdown",
   "metadata": {},
   "source": [
    "---\n",
    "\n",
    "## 1. Conditions in Python\n",
    "\n",
    "### Comparison Operators\n",
    "\n",
    "- Use comparison operators (`==`, `!=`, `>`, `<`, `>=`, `<=`) to compare values.\n",
    "\n",
    "---"
   ]
  },
  {
   "cell_type": "code",
   "execution_count": 8,
   "metadata": {},
   "outputs": [
    {
     "name": "stdout",
     "output_type": "stream",
     "text": [
      "False\n",
      "True\n",
      "False\n",
      "True\n",
      "True\n",
      "True\n"
     ]
    }
   ],
   "source": [
    "# Sample Code:\n",
    "a = 5\n",
    "b = 10\n",
    "\n",
    "print(a == b)  # False\n",
    "print(a != b)  # True\n",
    "print(a > b)   # False\n",
    "print(a < b)   # True\n",
    "print(a >= 5)  # True\n",
    "print(b <= 10) # True\n"
   ]
  },
  {
   "cell_type": "markdown",
   "metadata": {},
   "source": [
    "---\n",
    "\n",
    "## 2. Logical Operators in Python\n",
    "\n",
    "### Task 2: Logical Operators\n",
    "\n",
    "- Use logical operators (`and`, `or`, `not`) to combine conditions.\n",
    "\n",
    "---"
   ]
  },
  {
   "cell_type": "code",
   "execution_count": 21,
   "metadata": {},
   "outputs": [
    {
     "name": "stdout",
     "output_type": "stream",
     "text": [
      "True\n",
      "True\n",
      "True\n"
     ]
    }
   ],
   "source": [
    "# Sample Code:\n",
    "a = 5\n",
    "b = 10\n",
    "\n",
    "print(a > 0 and b > 0)  # True (both conditions are True)\n",
    "print(a > 0 or b < 0)   # True (at least one condition is True)\n",
    "print(not(a == b))      # True (negation of False)\n"
   ]
  },
  {
   "cell_type": "markdown",
   "metadata": {},
   "source": [
    "---\n",
    "\n",
    "## 3. Conditional Statements in Python\n",
    "\n",
    "### 3.1. If Statements\n",
    "\n",
    "- Write a Python program that checks whether a number is positive.\n"
   ]
  },
  {
   "cell_type": "code",
   "execution_count": 10,
   "metadata": {},
   "outputs": [
    {
     "name": "stdout",
     "output_type": "stream",
     "text": [
      "The number is positive.\n"
     ]
    }
   ],
   "source": [
    "number = 7\n",
    "if number > 0:\n",
    "    print(\"The number is positive.\")\n"
   ]
  },
  {
   "cell_type": "markdown",
   "metadata": {},
   "source": [
    "### 3.2. If-Else Statements\n",
    "\n",
    "- Modify the previous program to check if a number is positive, negative, or zero."
   ]
  },
  {
   "cell_type": "code",
   "execution_count": 11,
   "metadata": {},
   "outputs": [
    {
     "name": "stdout",
     "output_type": "stream",
     "text": [
      "The number is negative or zero.\n"
     ]
    }
   ],
   "source": [
    "number = -3\n",
    "if number > 0:\n",
    "    print(\"The number is positive.\")\n",
    "else:\n",
    "    print(\"The number is negative or zero.\")\n"
   ]
  },
  {
   "cell_type": "markdown",
   "metadata": {},
   "source": [
    "### 3.3. If-Elif-Else Statements\n",
    "\n",
    "- Extend the program to check whether a number is positive, negative, or zero."
   ]
  },
  {
   "cell_type": "code",
   "execution_count": 12,
   "metadata": {},
   "outputs": [
    {
     "name": "stdout",
     "output_type": "stream",
     "text": [
      "The number is zero.\n"
     ]
    }
   ],
   "source": [
    "number = 0\n",
    "if number > 0:\n",
    "    print(\"The number is positive.\")\n",
    "elif number < 0:\n",
    "    print(\"The number is negative.\")\n",
    "else:\n",
    "    print(\"The number is zero.\")\n"
   ]
  },
  {
   "cell_type": "markdown",
   "metadata": {},
   "source": [
    "## 3.4. Nested If Statements\n",
    "\n",
    "- Write a program that checks if a number is positive and even, or positive and odd.\n",
    "\n",
    "---"
   ]
  },
  {
   "cell_type": "code",
   "execution_count": 13,
   "metadata": {},
   "outputs": [
    {
     "name": "stdout",
     "output_type": "stream",
     "text": [
      "The number is positive and even.\n"
     ]
    }
   ],
   "source": [
    "number = 4\n",
    "if number > 0:\n",
    "    if number % 2 == 0:\n",
    "        print(\"The number is positive and even.\")\n",
    "    else:\n",
    "        print(\"The number is positive and odd.\")\n",
    "else:\n",
    "    print(\"The number is negative or zero.\")\n"
   ]
  },
  {
   "cell_type": "markdown",
   "metadata": {},
   "source": [
    "## 4. Data Types with Conditional Statements"
   ]
  },
  {
   "cell_type": "markdown",
   "metadata": {},
   "source": [
    "### 4.1. Integer Data Type\n",
    "\n",
    "- Check if a number is divisible by 3 or 5."
   ]
  },
  {
   "cell_type": "code",
   "execution_count": 14,
   "metadata": {},
   "outputs": [
    {
     "name": "stdout",
     "output_type": "stream",
     "text": [
      "The number is divisible by both 3 and 5.\n"
     ]
    }
   ],
   "source": [
    "number = 15\n",
    "if number % 3 == 0 and number % 5 == 0:\n",
    "    print(\"The number is divisible by both 3 and 5.\")\n"
   ]
  },
  {
   "cell_type": "markdown",
   "metadata": {},
   "source": [
    "### 4.2. Float Data Type\n",
    "\n",
    "- Compare two float numbers and print which one is larger."
   ]
  },
  {
   "cell_type": "code",
   "execution_count": 15,
   "metadata": {},
   "outputs": [
    {
     "name": "stdout",
     "output_type": "stream",
     "text": [
      "b is larger.\n"
     ]
    }
   ],
   "source": [
    "a = 7.5\n",
    "b = 9.8\n",
    "if a > b:\n",
    "    print(\"a is larger.\")\n",
    "else:\n",
    "    print(\"b is larger.\")\n"
   ]
  },
  {
   "cell_type": "markdown",
   "metadata": {},
   "source": [
    "### 4.3. String Data Type\n",
    "\n",
    "- Check if a string contains a certain word."
   ]
  },
  {
   "cell_type": "code",
   "execution_count": 16,
   "metadata": {},
   "outputs": [
    {
     "name": "stdout",
     "output_type": "stream",
     "text": [
      "The word contains 'he'.\n"
     ]
    }
   ],
   "source": [
    "word = \"hello\"\n",
    "if \"he\" in word:\n",
    "    print(\"The word contains 'he'.\")\n"
   ]
  },
  {
   "cell_type": "markdown",
   "metadata": {},
   "source": [
    "### 4.4. Boolean Data Type\n",
    "\n",
    "- Write a program that checks a boolean condition."
   ]
  },
  {
   "cell_type": "code",
   "execution_count": 17,
   "metadata": {},
   "outputs": [
    {
     "name": "stdout",
     "output_type": "stream",
     "text": [
      "The condition is True.\n"
     ]
    }
   ],
   "source": [
    "flag = True\n",
    "if flag:\n",
    "    print(\"The condition is True.\")\n",
    "else:\n",
    "    print(\"The condition is False.\")\n"
   ]
  },
  {
   "cell_type": "markdown",
   "metadata": {},
   "source": [
    "### 4.5. List Data Type\n",
    "\n",
    "- Check if a list contains a specific element."
   ]
  },
  {
   "cell_type": "code",
   "execution_count": 18,
   "metadata": {},
   "outputs": [
    {
     "name": "stdout",
     "output_type": "stream",
     "text": [
      "The list contains the number 3.\n"
     ]
    }
   ],
   "source": [
    "my_list = [1, 2, 3, 4, 5]\n",
    "if 3 in my_list:\n",
    "    print(\"The list contains the number 3.\")\n"
   ]
  },
  {
   "cell_type": "markdown",
   "metadata": {},
   "source": [
    "### 4.6. Tuple Data Type\n",
    "\n",
    "- Write a program to check if two tuples are identical."
   ]
  },
  {
   "cell_type": "code",
   "execution_count": 19,
   "metadata": {},
   "outputs": [
    {
     "name": "stdout",
     "output_type": "stream",
     "text": [
      "Both tuples are identical.\n"
     ]
    }
   ],
   "source": [
    "tuple1 = (1, 2, 3)\n",
    "tuple2 = (1, 2, 3)\n",
    "if tuple1 == tuple2:\n",
    "    print(\"Both tuples are identical.\")\n",
    "else:\n",
    "    print(\"The tuples are different.\")\n"
   ]
  },
  {
   "cell_type": "markdown",
   "metadata": {},
   "source": [
    "### 4.7. Dictionary Data Type\n",
    "\n",
    "- Write a program to check if a key exists in a dictionary."
   ]
  },
  {
   "cell_type": "code",
   "execution_count": 20,
   "metadata": {},
   "outputs": [
    {
     "name": "stdout",
     "output_type": "stream",
     "text": [
      "The key 'name' exists in the dictionary.\n"
     ]
    }
   ],
   "source": [
    "my_dict = {\"name\": \"John\", \"age\": 25}\n",
    "if \"name\" in my_dict:\n",
    "    print(\"The key 'name' exists in the dictionary.\")\n"
   ]
  },
  {
   "cell_type": "markdown",
   "metadata": {},
   "source": [
    "## Conclusion:\n",
    "By completing this lab work, you should have a solid understanding of conditional statements, logical operators, and how to work with different data types using `if`, `if-else`, and `if-elif-else` structures in Python."
   ]
  },
  {
   "cell_type": "markdown",
   "metadata": {},
   "source": []
  }
 ],
 "metadata": {
  "kernelspec": {
   "display_name": "Python 3",
   "language": "python",
   "name": "python3"
  },
  "language_info": {
   "codemirror_mode": {
    "name": "ipython",
    "version": 3
   },
   "file_extension": ".py",
   "mimetype": "text/x-python",
   "name": "python",
   "nbconvert_exporter": "python",
   "pygments_lexer": "ipython3",
   "version": "3.12.5"
  }
 },
 "nbformat": 4,
 "nbformat_minor": 2
}
