{
 "cells": [
  {
   "cell_type": "markdown",
   "metadata": {},
   "source": [
    "# **Lab Activities**:\n",
    "\n",
    "### **1. Introduction to Loops in Python**\n",
    "\n",
    "### **Task**:\n",
    "1. Write two programs:\n",
    "   - One using a `while` loop to print numbers from 1 to 10.\n",
    "   - One using a `for` loop to print numbers from 1 to 10.\n",
    "\n",
    "---"
   ]
  },
  {
   "cell_type": "code",
   "execution_count": 1,
   "metadata": {},
   "outputs": [
    {
     "name": "stdout",
     "output_type": "stream",
     "text": [
      "1\n",
      "2\n",
      "3\n",
      "4\n",
      "5\n",
      "6\n",
      "7\n",
      "8\n",
      "9\n",
      "10\n",
      "1\n",
      "2\n",
      "3\n",
      "4\n",
      "5\n",
      "6\n",
      "7\n",
      "8\n",
      "9\n",
      "10\n"
     ]
    }
   ],
   "source": [
    "# Task 1: Using while loop\n",
    "i = 1\n",
    "while i <= 10:\n",
    "    print(i)\n",
    "    i += 1\n",
    "\n",
    "# Task 2: Using for loop\n",
    "for i in range(1, 11):\n",
    "    print(i)\n"
   ]
  },
  {
   "cell_type": "markdown",
   "metadata": {},
   "source": [
    "### **2. Iterating with Python Loops**\n",
    "\n",
    "### **Task**:\n",
    "1. Iterate over a list of strings and print each string.\n",
    "2. Iterate over a dictionary and print each key-value pair.\n",
    "\n",
    "---"
   ]
  },
  {
   "cell_type": "code",
   "execution_count": 3,
   "metadata": {},
   "outputs": [
    {
     "name": "stdout",
     "output_type": "stream",
     "text": [
      "apple\n",
      "banana\n",
      "cherry\n",
      "This is the key: name:and its valu: Alice\n",
      "This is the key: age:and its valu: 25\n",
      "This is the key: city:and its valu: New York\n"
     ]
    }
   ],
   "source": [
    "# Task 1: Iterate over a list\n",
    "fruits = [\"apple\", \"banana\", \"cherry\"]\n",
    "for fruit in fruits:\n",
    "    print(fruit)\n",
    "\n",
    "# Task 2: Iterate over a dictionary\n",
    "person = {\"name\": \"Alice\", \"age\": 25, \"city\": \"New York\"}\n",
    "for key, value in person.items():\n",
    "    print(f\"This is the key: {key}:and its valu: {value}\")\n"
   ]
  },
  {
   "cell_type": "markdown",
   "metadata": {},
   "source": [
    "## **zip in loops**\n",
    "### Combines multiple iterables and iterates over them in parallel."
   ]
  },
  {
   "cell_type": "code",
   "execution_count": 9,
   "metadata": {},
   "outputs": [
    {
     "name": "stdout",
     "output_type": "stream",
     "text": [
      "Alice is 25 years old and his weight is 70\n",
      "Bob is 30 years old and his weight is 73\n",
      "Charlie is 35 years old and his weight is 76\n",
      "Ali is 22 years old and his weight is 66\n"
     ]
    }
   ],
   "source": [
    "names = ['Alice', 'Bob', 'Charlie', 'Ali']\n",
    "ages = [25, 30, 35, 22, 23]\n",
    "weight=(70, 73, 76, 66, 80)\n",
    "for name, age, w in zip(names, ages, weight):\n",
    "    print(f\"{name} is {age} years old and his weight is {w}\")\n"
   ]
  },
  {
   "cell_type": "markdown",
   "metadata": {},
   "source": [
    "### **3. The `while` Loop**\n",
    "\n",
    "### **Task**:\n",
    "1. Write a program that keeps asking the user for input until they enter the word `\"stop\"`.\n",
    "\n",
    "---"
   ]
  },
  {
   "cell_type": "code",
   "execution_count": 14,
   "metadata": {},
   "outputs": [
    {
     "name": "stdout",
     "output_type": "stream",
     "text": [
      "You entered: Exit\n",
      "You entered: exit\n",
      "You entered: exit\n"
     ]
    }
   ],
   "source": [
    "# Task: Use while loop to accept input until \"stop\" is entered\n",
    "user_input = \"\"\n",
    "while user_input.lower()!= \"exit\":\n",
    "    user_input = input(\"Enter something (type 'stop' to end): \")\n",
    "    print(\"You entered:\", user_input)\n"
   ]
  },
  {
   "cell_type": "markdown",
   "metadata": {},
   "source": [
    "### **4. The `for` Loop**\n",
    "\n",
    "### **Task**:\n",
    "1. Write a program that iterates over the letters in a string and prints each letter on a new line.\n",
    "\n",
    "---"
   ]
  },
  {
   "cell_type": "code",
   "execution_count": 4,
   "metadata": {},
   "outputs": [
    {
     "name": "stdout",
     "output_type": "stream",
     "text": [
      "P\n",
      "y\n",
      "t\n",
      "h\n",
      "o\n",
      "n\n"
     ]
    }
   ],
   "source": [
    "# Task: Iterate over letters in a string\n",
    "word = \"Python\"\n",
    "for letter in word:\n",
    "    print(letter)\n"
   ]
  },
  {
   "cell_type": "markdown",
   "metadata": {},
   "source": [
    "### **5. The `range()` Function**\n",
    "\n",
    "### **Task**:\n",
    "1. Use `range()` to print all even numbers between 2 and 20.\n",
    "2. Use `range()` to print numbers in reverse from 10 to 1.\n",
    "\n",
    "---"
   ]
  },
  {
   "cell_type": "code",
   "execution_count": 5,
   "metadata": {},
   "outputs": [
    {
     "name": "stdout",
     "output_type": "stream",
     "text": [
      "2\n",
      "4\n",
      "6\n",
      "8\n",
      "10\n",
      "12\n",
      "14\n",
      "16\n",
      "18\n",
      "20\n",
      "10\n",
      "9\n",
      "8\n",
      "7\n",
      "6\n",
      "5\n",
      "4\n",
      "3\n",
      "2\n",
      "1\n"
     ]
    }
   ],
   "source": [
    "# Task 1: Print even numbers between 2 and 20\n",
    "for i in range(2, 21, 2):\n",
    "    print(i)\n",
    "\n",
    "# Task 2: Print numbers in reverse from 10 to 1\n",
    "for i in range(10, 0, -1):\n",
    "    print(i)\n"
   ]
  },
  {
   "cell_type": "markdown",
   "metadata": {},
   "source": [
    "### **6. The `break` Statement**\n",
    "\n",
    "### **Task**:\n",
    "1. Write a program that loops from 1 to 10 but stops the loop when the number is equal to 5.\n",
    "\n",
    "---"
   ]
  },
  {
   "cell_type": "code",
   "execution_count": 6,
   "metadata": {},
   "outputs": [
    {
     "name": "stdout",
     "output_type": "stream",
     "text": [
      "1\n",
      "2\n",
      "3\n",
      "4\n"
     ]
    }
   ],
   "source": [
    "# Task: Use break to stop the loop when i is 5\n",
    "for i in range(1, 11):\n",
    "    if i == 5:\n",
    "        break\n",
    "    print(i)\n"
   ]
  },
  {
   "cell_type": "markdown",
   "metadata": {},
   "source": [
    "# **for loop with enumerate**\n",
    "## Useful when you need both the index and the value while iterating."
   ]
  },
  {
   "cell_type": "code",
   "execution_count": null,
   "metadata": {},
   "outputs": [],
   "source": [
    "items = ['apple', 'banana', 'cherry']\n",
    "for index, item in enumerate(items):\n",
    "    print(index, item)\n"
   ]
  },
  {
   "cell_type": "code",
   "execution_count": null,
   "metadata": {},
   "outputs": [],
   "source": [
    "count = 0\n",
    "while True:\n",
    "    print(count)\n",
    "    count += 1\n",
    "    if count == 3:\n",
    "        break\n"
   ]
  },
  {
   "cell_type": "markdown",
   "metadata": {},
   "source": [
    "### **7. The `continue` Statement**\n",
    "\n",
    "### **Task**:\n",
    "1. Write a program that loops from 1 to 10 but skips the number 5 using `continue`.\n",
    "\n",
    "---"
   ]
  },
  {
   "cell_type": "code",
   "execution_count": 4,
   "metadata": {},
   "outputs": [
    {
     "name": "stdout",
     "output_type": "stream",
     "text": [
      "1\n",
      "2\n",
      "3\n",
      "4\n",
      "5\n",
      "6\n",
      "7\n",
      "8\n",
      "9\n",
      "10\n"
     ]
    }
   ],
   "source": [
    "# Task: Use continue to skip the number 5\n",
    "for i in range(1, 11):\n",
    "    if i == 5:\n",
    "        continue\n",
    "    print(i)\n"
   ]
  },
  {
   "cell_type": "markdown",
   "metadata": {},
   "source": [
    "### **8. The `pass` Statement**\n",
    "\n",
    "### **Task**:\n",
    "1. Write a program that loops through numbers from 1 to 5, but does nothing for numbers less than 3.\n"
   ]
  },
  {
   "cell_type": "code",
   "execution_count": 9,
   "metadata": {},
   "outputs": [],
   "source": [
    "# Task: Use pass for numbers less than 3\n",
    "for i in range(1, 6):\n",
    "    if i < 3:\n",
    "        pass\n",
    "    else:\n",
    "        print(i)\n",
    "    #print(i)\n"
   ]
  },
  {
   "cell_type": "markdown",
   "metadata": {},
   "source": [
    "---\n",
    "List Comprehension\n",
    "---"
   ]
  },
  {
   "cell_type": "code",
   "execution_count": 2,
   "metadata": {},
   "outputs": [
    {
     "data": {
      "text/plain": [
       "[2, 4, 6, 8, 10, 12, 14, 16, 18]"
      ]
     },
     "execution_count": 2,
     "metadata": {},
     "output_type": "execute_result"
    }
   ],
   "source": [
    "a = [i * 2 for i in range(1, 10)]\n",
    "a"
   ]
  },
  {
   "cell_type": "code",
   "execution_count": null,
   "metadata": {},
   "outputs": [],
   "source": [
    "squares = [i ** 2 for i in range(5)]\n",
    "print(squares)"
   ]
  },
  {
   "cell_type": "code",
   "execution_count": 3,
   "metadata": {},
   "outputs": [
    {
     "data": {
      "text/plain": [
       "[2, 4, 6, 8, 10, 12, 14, 16, 18]"
      ]
     },
     "execution_count": 3,
     "metadata": {},
     "output_type": "execute_result"
    }
   ],
   "source": [
    "a = []\n",
    "for i in range(1, 10):\n",
    "    a.append(i * 2)\n",
    "a"
   ]
  },
  {
   "cell_type": "markdown",
   "metadata": {},
   "source": [
    "---\n",
    "# **Nest Loop**\n",
    "---"
   ]
  },
  {
   "cell_type": "code",
   "execution_count": null,
   "metadata": {},
   "outputs": [],
   "source": [
    "for i in range(3):\n",
    "    for j in range(2):\n",
    "        print(f\"i = {i}, j = {j}\")\n"
   ]
  },
  {
   "cell_type": "markdown",
   "metadata": {},
   "source": [
    "### **Lab Conclusion**\n",
    "\n",
    "In this lab, we explored various loop structures and control statements in Python, including:\n",
    "\n",
    "1. **Loop Structures**: \n",
    "   - Using `while` and `for` loops for iteration.\n",
    "   - Iterating through lists and dictionaries.\n",
    "\n",
    "2. **Control Statements**:\n",
    "   - Managing loop flow with `break`, `continue`, and `pass`.\n",
    "\n",
    "3. **Built-in Functions**:\n",
    "   - Utilizing `range()` for efficient iteration.\n",
    "\n",
    "\n",
    "By completing these tasks, you now have a foundational understanding of Python loops and control statements, essential for processing and managing data effectively.\n"
   ]
  }
 ],
 "metadata": {
  "kernelspec": {
   "display_name": "workenv",
   "language": "python",
   "name": "python3"
  },
  "language_info": {
   "codemirror_mode": {
    "name": "ipython",
    "version": 3
   },
   "file_extension": ".py",
   "mimetype": "text/x-python",
   "name": "python",
   "nbconvert_exporter": "python",
   "pygments_lexer": "ipython3",
   "version": "3.9.18"
  }
 },
 "nbformat": 4,
 "nbformat_minor": 2
}
